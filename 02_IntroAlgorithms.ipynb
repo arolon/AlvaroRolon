{
  "nbformat": 4,
  "nbformat_minor": 0,
  "metadata": {
    "colab": {
      "name": "02_IntroAlgorithms.ipynb",
      "provenance": [],
      "include_colab_link": true
    },
    "kernelspec": {
      "name": "python3",
      "display_name": "Python 3"
    }
  },
  "cells": [
    {
      "cell_type": "markdown",
      "metadata": {
        "id": "view-in-github",
        "colab_type": "text"
      },
      "source": [
        "<a href=\"https://colab.research.google.com/github/arolon/AlvaroRolon/blob/master/02_IntroAlgorithms.ipynb\" target=\"_parent\"><img src=\"https://colab.research.google.com/assets/colab-badge.svg\" alt=\"Open In Colab\"/></a>"
      ]
    },
    {
      "cell_type": "markdown",
      "metadata": {
        "id": "s4kpqkvomel8",
        "colab_type": "text"
      },
      "source": [
        "## Taller 3\n",
        "\n",
        "En la carpeta de los documentos se encuentra un libro en pdf (libro-completoProblemas.pdf [texto del enlace](https://drive.google.com/open?id=1os9N0GLelPG5C0O6-EENygVI2UIAFTcI)) con enunciados para problemas de programación. Por favor resuelva los siguientes problemas\n",
        "\n"
      ]
    },
    {
      "cell_type": "markdown",
      "metadata": {
        "id": "5XUIg0F9nG-B",
        "colab_type": "text"
      },
      "source": [
        "1. El beso exacto (Problema 11, pag. 24)\n"
      ]
    },
    {
      "cell_type": "code",
      "metadata": {
        "id": "LfVr3zF3nIkD",
        "colab_type": "code",
        "colab": {}
      },
      "source": [
        "radio1 = input(\"Introduce el radio del primer circulo\")\n",
        "radio2 = input(\"Introduce el radio del segundo circulo\")\n",
        "radio3 = input(\"Introduce el radio del tercer circulo\")\n",
        "print(radio1+radio2+radio3)"
      ],
      "execution_count": 0,
      "outputs": []
    },
    {
      "cell_type": "markdown",
      "metadata": {
        "id": "PV-1e46XnJkv",
        "colab_type": "text"
      },
      "source": [
        "2. Fichas de dominó (Problema 14, pag. 25)\n"
      ]
    },
    {
      "cell_type": "code",
      "metadata": {
        "id": "CE1KiQl4nK5u",
        "colab_type": "code",
        "colab": {}
      },
      "source": [
        ""
      ],
      "execution_count": 0,
      "outputs": []
    },
    {
      "cell_type": "markdown",
      "metadata": {
        "id": "eJ0BCeIXnLed",
        "colab_type": "text"
      },
      "source": [
        "3. Expresiones relacionadas con una formación rectangular de números (Problema 15, pag. 26)\n"
      ]
    },
    {
      "cell_type": "code",
      "metadata": {
        "id": "FOq4Nm_OnRWG",
        "colab_type": "code",
        "colab": {}
      },
      "source": [
        ""
      ],
      "execution_count": 0,
      "outputs": []
    },
    {
      "cell_type": "markdown",
      "metadata": {
        "id": "FmikomytnUaC",
        "colab_type": "text"
      },
      "source": [
        "4. Organización de torneo (Problema 18, pag. 21)"
      ]
    },
    {
      "cell_type": "code",
      "metadata": {
        "id": "9A8gdC4_nXE1",
        "colab_type": "code",
        "colab": {}
      },
      "source": [
        ""
      ],
      "execution_count": 0,
      "outputs": []
    },
    {
      "cell_type": "markdown",
      "metadata": {
        "id": "6uC9tapVnXtv",
        "colab_type": "text"
      },
      "source": [
        "5. Cortes de una tarta (Problema 20, pag. 29)"
      ]
    },
    {
      "cell_type": "code",
      "metadata": {
        "id": "bm2tDnQSnZWb",
        "colab_type": "code",
        "colab": {}
      },
      "source": [
        ""
      ],
      "execution_count": 0,
      "outputs": []
    },
    {
      "cell_type": "markdown",
      "metadata": {
        "id": "EstfLRgUnZy8",
        "colab_type": "text"
      },
      "source": [
        "6. Resuelva la ecuación radical $ \\sqrt[3]{x}=9$"
      ]
    },
    {
      "cell_type": "code",
      "metadata": {
        "id": "1m-7zbijnbIe",
        "colab_type": "code",
        "colab": {}
      },
      "source": [
        ""
      ],
      "execution_count": 0,
      "outputs": []
    },
    {
      "cell_type": "markdown",
      "metadata": {
        "id": "9nfUG3qpnbko",
        "colab_type": "text"
      },
      "source": [
        "7. ¿Cuál es el área de un triángulo cuyos lados tienen una longitud de $a$ y $b$, cuyo ángulo interno entre estos dos lados es de $\\alpha$ grados?."
      ]
    },
    {
      "cell_type": "code",
      "metadata": {
        "id": "7DTLcSauncai",
        "colab_type": "code",
        "colab": {}
      },
      "source": [
        ""
      ],
      "execution_count": 0,
      "outputs": []
    },
    {
      "cell_type": "markdown",
      "metadata": {
        "id": "xmtDXtFOkWUU",
        "colab_type": "text"
      },
      "source": [
        "8. Encuentre la línea paralela de la línea recta dada $6x - 3y = 2$ que pasa por un punto $(1, 2)$."
      ]
    },
    {
      "cell_type": "code",
      "metadata": {
        "id": "9Zqfpw8rkWnE",
        "colab_type": "code",
        "colab": {}
      },
      "source": [
        ""
      ],
      "execution_count": 0,
      "outputs": []
    },
    {
      "cell_type": "markdown",
      "metadata": {
        "id": "yGYMSfCukexv",
        "colab_type": "text"
      },
      "source": [
        "9. Encuentre el área de un hexagono cuyo lado es 4cm."
      ]
    },
    {
      "cell_type": "code",
      "metadata": {
        "id": "PaSCzlGgkfMT",
        "colab_type": "code",
        "colab": {}
      },
      "source": [
        ""
      ],
      "execution_count": 0,
      "outputs": []
    },
    {
      "cell_type": "markdown",
      "metadata": {
        "id": "wc0P3cMpksnE",
        "colab_type": "text"
      },
      "source": [
        "10. Encuentre el área del camino, donde un camino mide 14 cm de ancho, rodea un césped circular cuyo diámetro es de 360 cm."
      ]
    },
    {
      "cell_type": "code",
      "metadata": {
        "id": "JsleQVF9ks5B",
        "colab_type": "code",
        "colab": {}
      },
      "source": [
        ""
      ],
      "execution_count": 0,
      "outputs": []
    }
  ]
}